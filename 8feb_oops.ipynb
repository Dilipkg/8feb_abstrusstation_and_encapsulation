{
 "cells": [
  {
   "cell_type": "markdown",
   "id": "1db9b1a0-8c3c-4c93-8934-a7d83ca226ae",
   "metadata": {},
   "source": [
    "Q1.\n",
    "Abstraction is define as a process of hendling complexity by hiding unnecessary information from user"
   ]
  },
  {
   "cell_type": "markdown",
   "id": "6965c6ac-3c23-47b8-a31b-0ee8fe0a5e60",
   "metadata": {},
   "source": [
    "import abc \n",
    " \n",
    "class pwskill:\n",
    "    @abc.abstractclassmethod\n",
    "    def student_detail():\n",
    "        pass\n",
    "    \n",
    "    @abc.abstractclassmethod\n",
    "    def student_assigmnet():\n",
    "        pass\n",
    "    \n",
    "    @abc.abstractclassmethod\n",
    "    def student_mark():\n",
    "        pass\n",
    "\n",
    "class student_detail(pwskill):\n",
    "    def student_detail(self):\n",
    "        return \"my name is dilip\"\n",
    "\n",
    "    def student_assigmnet(self):\n",
    "        return \"my name is dilip\"\n",
    "\n",
    "class data_science_masters(pwskill):\n",
    "    \n",
    "    def student_detail(self):\n",
    "        return\"this will return a student detail data science\"\n",
    "    \n",
    "    def student_assignemt(self):\n",
    "        return\"this will give you a student assignment details for data science master\"\n",
    "u=data_science_masters()\n",
    "u.student_detail()"
   ]
  },
  {
   "cell_type": "markdown",
   "id": "7684c78c-6ca4-42f5-a0d8-6a7bb1e7d0a1",
   "metadata": {},
   "source": [
    "Q2.\n",
    "Abstraction is way of represting some specific data.\n",
    "Encapsulation is way of hiding the complexity of something and expose only the parts you wish to expose."
   ]
  },
  {
   "cell_type": "markdown",
   "id": "bdecb352-8148-4bbc-9404-c3faf65ddb40",
   "metadata": {},
   "source": [
    "#Abstrustion:\n",
    "import abc\n",
    "class parent:\n",
    "    def geeks(self):\n",
    "        print(\"preant class\")\n",
    "class child(parent):\n",
    "    def geeks(self):\n",
    "        print(\"child class\")\n",
    "k=parent()\n",
    "k.geeks()"
   ]
  },
  {
   "cell_type": "markdown",
   "id": "03810dfb-83dd-4ffd-8926-dcd7d12eb6a7",
   "metadata": {},
   "source": [
    "#Encapsulation:\n",
    "class car:\n",
    "    def __init__(self,year,model,speed):\n",
    "        self.__year=year\n",
    "        self.__model=model\n",
    "        self.__speed=0\n",
    "    def set_speed(self,speed):\n",
    "        self.speed= 0 if speed < 0 else speed\n",
    "    def get_speed(self):\n",
    "        return self.__speed\n",
    "c=car(234,\"fhdh\",4)\n",
    "c._car__year"
   ]
  },
  {
   "cell_type": "markdown",
   "id": "180f1ea5-c4f0-40c3-84ec-9b65697c3cb3",
   "metadata": {},
   "source": [
    "Q3.\n",
    "Prvoides the infrastructure for defining abstract base classes (ABCs) in python.\n",
    "'abc' works by marking method of the base class as abstract. this is done by  @absttractmethod decorater."
   ]
  },
  {
   "cell_type": "markdown",
   "id": "6528b7c6-c18c-42b3-8dec-8323a0589e2c",
   "metadata": {},
   "source": [
    "Q4.\n",
    " Abstraction can be achieved by having/using abstract classes and methods in our programs. Understanding Abstract Methods and Classes: An abstract method is a method that is declared, but does not contain implementation.\n"
   ]
  },
  {
   "cell_type": "code",
   "execution_count": null,
   "id": "70463eee-ed89-4413-a480-ac90f1881c30",
   "metadata": {},
   "outputs": [],
   "source": [
    "Q5.\n",
    "Abstract classes cannot be instantianted, but they can be subclassed.when an abstract class is subclassed, the subclass useally provided implemntation for all of the abstract\n",
    "metg"
   ]
  }
 ],
 "metadata": {
  "kernelspec": {
   "display_name": "Python 3 (ipykernel)",
   "language": "python",
   "name": "python3"
  },
  "language_info": {
   "codemirror_mode": {
    "name": "ipython",
    "version": 3
   },
   "file_extension": ".py",
   "mimetype": "text/x-python",
   "name": "python",
   "nbconvert_exporter": "python",
   "pygments_lexer": "ipython3",
   "version": "3.10.8"
  }
 },
 "nbformat": 4,
 "nbformat_minor": 5
}
